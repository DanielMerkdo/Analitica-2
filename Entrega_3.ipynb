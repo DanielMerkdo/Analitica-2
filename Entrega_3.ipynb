{
  "nbformat": 4,
  "nbformat_minor": 0,
  "metadata": {
    "colab": {
      "private_outputs": true,
      "provenance": [],
      "collapsed_sections": [
        "wgDUpJ3eEezM",
        "Mdxnj5ks_sx6",
        "kC2H0PX_93uf",
        "-0zzW_Uu_tAU",
        "QWApbeZC9ano"
      ]
    },
    "kernelspec": {
      "name": "python3",
      "display_name": "Python 3"
    },
    "language_info": {
      "name": "python"
    }
  },
  "cells": [
    {
      "cell_type": "markdown",
      "source": [
        "Integrantes:\n",
        "\n",
        "*   Daniel Perea Mercado\n",
        "*   David Diaz Rodriguez\n",
        "*   Nicolas Niño Valderrama\n",
        "*   Valentina Jimenez Torres"
      ],
      "metadata": {
        "id": "ilM7iWdTqATc"
      }
    },
    {
      "cell_type": "markdown",
      "source": [
        "___\n",
        "# Instalación de librerias"
      ],
      "metadata": {
        "id": "wgDUpJ3eEezM"
      }
    },
    {
      "cell_type": "code",
      "source": [
        "import matplotlib.pyplot as plt\n",
        "import numpy as np\n",
        "import pandas as pd\n",
        "import plotly.express as px\n",
        "import seaborn as sns\n",
        "\n",
        "from scipy.cluster.hierarchy import linkage, fcluster, cophenet, dendrogram\n",
        "from scipy.stats import zscore, shapiro, kstest, anderson\n",
        "from scipy.spatial.distance import pdist\n",
        "\n",
        "from sklearn.cluster import AgglomerativeClustering\n",
        "from sklearn.cluster import KMeans\n",
        "from sklearn.decomposition import PCA\n",
        "from sklearn.metrics import silhouette_score,  calinski_harabasz_score\n",
        "from sklearn.mixture import GaussianMixture\n",
        "from sklearn.neighbors import NearestNeighbors\n",
        "from sklearn.preprocessing import StandardScaler"
      ],
      "metadata": {
        "id": "Bge6nY3FEcm0"
      },
      "execution_count": null,
      "outputs": []
    },
    {
      "cell_type": "code",
      "source": [
        "!pip install kneed"
      ],
      "metadata": {
        "id": "PwHEtvZbOyl9"
      },
      "execution_count": null,
      "outputs": []
    },
    {
      "cell_type": "code",
      "source": [
        "from kneed import KneeLocator"
      ],
      "metadata": {
        "id": "Pkhc6meKPGz2"
      },
      "execution_count": null,
      "outputs": []
    },
    {
      "cell_type": "code",
      "source": [
        "# Configuramos el cuadernos para que los resultados contenga\n",
        "# solo 3 cifras decimales\n",
        "#pd.options.display.float_format = '{:.3f}'.format"
      ],
      "metadata": {
        "id": "JYObjaROFmdL"
      },
      "execution_count": null,
      "outputs": []
    },
    {
      "cell_type": "markdown",
      "metadata": {
        "id": "Mdxnj5ks_sx6"
      },
      "source": [
        "---\n",
        "# **Lectura de los datos desde Kaggle**"
      ]
    },
    {
      "cell_type": "code",
      "execution_count": null,
      "metadata": {
        "id": "KLy6Xs6miI_4"
      },
      "outputs": [],
      "source": [
        "!mkdir -p ~/.kaggle"
      ]
    },
    {
      "cell_type": "code",
      "execution_count": null,
      "metadata": {
        "id": "m5F4tOwQiND4"
      },
      "outputs": [],
      "source": [
        "!echo '{\"username\":\"nicolsniovalderrama\",\"key\":\"f7f9fda0ddecb368ca50593318da1412\"}' > ~/.kaggle/kaggle.json"
      ]
    },
    {
      "cell_type": "code",
      "execution_count": null,
      "metadata": {
        "id": "M8PHdTRSi8T8"
      },
      "outputs": [],
      "source": [
        "!chmod 600 ~/.kaggle/kaggle.json"
      ]
    },
    {
      "cell_type": "code",
      "execution_count": null,
      "metadata": {
        "id": "IHNGOx_wjG4J"
      },
      "outputs": [],
      "source": [
        "!kaggle datasets download -d devantltd/analysing-second-hand-car-sales-data"
      ]
    },
    {
      "cell_type": "code",
      "source": [
        "!unzip analysing-second-hand-car-sales-data"
      ],
      "metadata": {
        "id": "b4Sj0VywEApv"
      },
      "execution_count": null,
      "outputs": []
    },
    {
      "cell_type": "code",
      "source": [
        "df_shc = pd.read_csv(\"second_hand_car_sales.csv\")\n",
        "df_shc.head()"
      ],
      "metadata": {
        "id": "fEIFKc6jEXHW"
      },
      "execution_count": null,
      "outputs": []
    },
    {
      "cell_type": "markdown",
      "source": [
        "___\n",
        "# Exploración de los datos"
      ],
      "metadata": {
        "id": "le3mNcE9F84k"
      }
    },
    {
      "cell_type": "code",
      "source": [
        "df_shc.info()"
      ],
      "metadata": {
        "id": "RwE6kXmgsWg3",
        "collapsed": true
      },
      "execution_count": null,
      "outputs": []
    },
    {
      "cell_type": "code",
      "source": [
        "df_shc.shape"
      ],
      "metadata": {
        "id": "XaB37mxaGEb3",
        "collapsed": true
      },
      "execution_count": null,
      "outputs": []
    },
    {
      "cell_type": "code",
      "source": [
        "df_shc.dtypes"
      ],
      "metadata": {
        "id": "gcYqHk5oGa8b",
        "collapsed": true
      },
      "execution_count": null,
      "outputs": []
    },
    {
      "cell_type": "markdown",
      "source": [
        "## Datos nulos"
      ],
      "metadata": {
        "id": "z2ZIbmwIGs2q"
      }
    },
    {
      "cell_type": "code",
      "source": [
        "df_shc.isnull().sum()"
      ],
      "metadata": {
        "id": "WMksfk1TGuWt"
      },
      "execution_count": null,
      "outputs": []
    },
    {
      "cell_type": "markdown",
      "source": [
        "El dataframe no presenta datos nulos"
      ],
      "metadata": {
        "id": "q_r2MYQUG0yN"
      }
    },
    {
      "cell_type": "markdown",
      "source": [
        "## Datos duplicados"
      ],
      "metadata": {
        "id": "z1pknoLd9jsp"
      }
    },
    {
      "cell_type": "code",
      "source": [
        "df_shc.duplicated().sum()"
      ],
      "metadata": {
        "id": "r2aD0Q3T9sfG"
      },
      "execution_count": null,
      "outputs": []
    },
    {
      "cell_type": "markdown",
      "source": [
        "No hay datos duplicados"
      ],
      "metadata": {
        "id": "mwmCPORJ9wvH"
      }
    },
    {
      "cell_type": "markdown",
      "source": [
        "## Análisis variables númericas"
      ],
      "metadata": {
        "id": "kC2H0PX_93uf"
      }
    },
    {
      "cell_type": "markdown",
      "source": [
        "#### Distribuciones"
      ],
      "metadata": {
        "id": "jywuP_W__zSF"
      }
    },
    {
      "cell_type": "code",
      "source": [
        "numericas = df_shc.select_dtypes(include=[np.number])\n",
        "numericas.describe()"
      ],
      "metadata": {
        "id": "M4hiO3OZ98pv"
      },
      "execution_count": null,
      "outputs": []
    },
    {
      "cell_type": "markdown",
      "source": [
        "Al analizar los datos de la tabla podemos notar que los datos se comportan con normalidad, *Engine size* esta expresada en litros y hace referencia la cilindrada o a la suma del volumen útil de todos los cilindros del motor, el *Year of Manufacturer* indica el año en que el auto fue ensamblado, el *Mileage* indica cuantas millas ha recorrido el vechiculo y *Price*, expreado en libras esternilas, expresa el valor de mercado del automovil."
      ],
      "metadata": {
        "id": "4nZpv0D7-rAE"
      }
    },
    {
      "cell_type": "code",
      "source": [
        "fig, axs = plt.subplots(2, 2, figsize=(12, 10))  # 2 filas y 2 columnas\n",
        "axs = axs.flatten()  # Aplanar el array de ejes para facilitar el acceso\n",
        "\n",
        "# Iterar sobre las columnas numéricas y graficar\n",
        "for i, col in enumerate(numericas.columns):\n",
        "    sns.histplot(df_shc[col], kde=True, ax=axs[i], color='skyblue', edgecolor='black')\n",
        "    axs[i].set_title(f'Distribución de {col}')\n",
        "    axs[i].set_xlabel(col)\n",
        "    axs[i].set_ylabel('Frecuencia')\n",
        "\n",
        "# Ajustar el layout\n",
        "plt.tight_layout()\n",
        "plt.show()"
      ],
      "metadata": {
        "id": "C0UM4qVTAMO-"
      },
      "execution_count": null,
      "outputs": []
    },
    {
      "cell_type": "markdown",
      "source": [
        "Las cuatro variables analizadas (*Engine Size (L), Year of Manufacture, Mileage, Price (£)*) presentan distribuciones bastante uniformes, lo que indica una variedad de datos sin sesgos evidentes hacia valores específicos."
      ],
      "metadata": {
        "id": "4GifdZwXAUX6"
      }
    },
    {
      "cell_type": "code",
      "source": [
        "numericas"
      ],
      "metadata": {
        "id": "9JAVjSqpR7xZ"
      },
      "execution_count": null,
      "outputs": []
    },
    {
      "cell_type": "markdown",
      "source": [
        "##### Prueba de Shapiro-Wilk"
      ],
      "metadata": {
        "id": "NLPzhnMyBhVY"
      }
    },
    {
      "cell_type": "markdown",
      "source": [
        "Se realiza en este caso la prueba de normalidad con diferentes grados de signifcancia"
      ],
      "metadata": {
        "id": "kfryVPWSmCUm"
      }
    },
    {
      "cell_type": "code",
      "source": [
        "# Aplicar la prueba de Shapiro-Wilk a cada variable\n",
        "for variable in numericas:\n",
        "    print(f'\\nPrueba de Shapiro-Wilk para {variable}:')\n",
        "    stat, p_value = shapiro(numericas[variable])\n",
        "    print('Estadístico=%.3f, p-valor=%.6f' % (stat, p_value))\n",
        "    if p_value > 0.05:\n",
        "        print('La variable sigue una distribución normal')\n",
        "    else:\n",
        "        print('La variable no sigue una distribución normal')"
      ],
      "metadata": {
        "id": "vmC7G3dpAqNB"
      },
      "execution_count": null,
      "outputs": []
    },
    {
      "cell_type": "markdown",
      "source": [
        "##### Prueba de Kolmogorov-Smirnov (KS)"
      ],
      "metadata": {
        "id": "1AdK9cUkBkTF"
      }
    },
    {
      "cell_type": "code",
      "source": [
        "# Prueba de Kolmogorov-Smirnov\n",
        "for variable in numericas:\n",
        "    print(f'\\nPrueba de Kolmogorov-Smirnov para {variable}:')\n",
        "    stat, p_value = kstest(numericas[variable], 'norm')\n",
        "    print('Estadístico=%.3f, p-valor=%.6f' % (stat, p_value))\n",
        "    if p_value > 0.05:\n",
        "        print('La variable sigue una distribución normal')\n",
        "    else:\n",
        "        print('La variable no sigue una distribución normal')"
      ],
      "metadata": {
        "id": "wYuFyjjaBtkH"
      },
      "execution_count": null,
      "outputs": []
    },
    {
      "cell_type": "markdown",
      "source": [
        "##### Prueba de Anderson-Darling"
      ],
      "metadata": {
        "id": "Wo5lYBXcBvs8"
      }
    },
    {
      "cell_type": "code",
      "source": [
        "# Prueba de Anderson-Darling\n",
        "for variable in numericas:\n",
        "    print(f'\\nPrueba de Anderson-Darling para {variable}:')\n",
        "    result = anderson(numericas[variable], dist='norm')\n",
        "    print('Estadístico=%.3f' % result.statistic)\n",
        "    for i in range(len(result.critical_values)):\n",
        "        print('Nivel de significancia=%.1f%%: estadístico crítico=%.3f' % (result.significance_level[i], result.critical_values[i]))\n",
        "        if result.statistic < result.critical_values[i]:\n",
        "            print('La variable sigue una distribución normal')\n",
        "        else:\n",
        "            print('La variable no sigue una distribución normal')"
      ],
      "metadata": {
        "id": "w6MNFE9oBzpp"
      },
      "execution_count": null,
      "outputs": []
    },
    {
      "cell_type": "markdown",
      "source": [
        "Las pruebas de normalidad de Shapiro, Kolmogorov y Anderson indican que estas variables no siguen una distribución normal."
      ],
      "metadata": {
        "id": "0-GUFbL1J9Bk"
      }
    },
    {
      "cell_type": "markdown",
      "source": [
        "#### Valores atípicos"
      ],
      "metadata": {
        "id": "-0zzW_Uu_tAU"
      }
    },
    {
      "cell_type": "code",
      "source": [
        "fig, axes = plt.subplots(2, 2, figsize=(12, 10))  # 2 filas y 2 columnas\n",
        "\n",
        "axes = axes.flatten()\n",
        "\n",
        "# Crear un boxplot para cada variable numérica\n",
        "for ax, col in zip(axes, numericas.columns):\n",
        "    sns.boxplot(y=df_shc[col], ax=ax, color='skyblue')\n",
        "    ax.set_title(f'Boxplot de {col}')\n",
        "    ax.set_ylabel(col)\n",
        "\n",
        "# Ajustar el layout para evitar superposiciones\n",
        "plt.tight_layout()\n",
        "plt.show()"
      ],
      "metadata": {
        "id": "B8tKlzgq-sBc"
      },
      "execution_count": null,
      "outputs": []
    },
    {
      "cell_type": "code",
      "source": [
        "for col in numericas.columns:\n",
        "    # Calcular z-score para cada columna y obtener su valor absoluto\n",
        "    z_scores = zscore(df_shc[col])\n",
        "    abs_z_scores = np.abs(z_scores)\n",
        "\n",
        "    # Seleccionar los outliers usando un límite de 3\n",
        "    outliers_zscore = df_shc[abs_z_scores > 3]\n",
        "\n",
        "    # Contar el número de valores atípicos\n",
        "    num_outliers = outliers_zscore[col].count()\n",
        "\n",
        "    # Imprimir el nombre de la columna, el valor mínimo del outlier y el número de outliers\n",
        "    print(f\"Variable: {col}\")\n",
        "    print(f\"Número de valores atípicos: {num_outliers}\")\n",
        "    if num_outliers > 0:  # Solo imprimir el valor mínimo si hay outliers\n",
        "        print(f\"Outlier mínimo (z-score): {outliers_zscore[col].min()}\")\n",
        "    print(\"---\")"
      ],
      "metadata": {
        "id": "OOlGqCFl_2N4"
      },
      "execution_count": null,
      "outputs": []
    },
    {
      "cell_type": "markdown",
      "source": [
        "Aunque las variables no siguen una distribución normal, la falta de valores atípicos refuerza la calidad y la confiabilidad de los datos. Esto indica que los datos son consistentes y homogéneos dentro de los rangos esperados, lo cual es positivo para el análisis, ya que no se requieren medidas adicionales para manejar valores extremos."
      ],
      "metadata": {
        "id": "X4J1mVpIylu5"
      }
    },
    {
      "cell_type": "markdown",
      "source": [
        "#### Correlaciones"
      ],
      "metadata": {
        "id": "GSrobUEjBsDP"
      }
    },
    {
      "cell_type": "code",
      "source": [
        "#Matriz de correlación\n",
        "matriz_correlacion = numericas.corr()\n",
        "\n",
        "print(\"Matriz de correlación entre las variables numéricas:\")\n",
        "print(matriz_correlacion)"
      ],
      "metadata": {
        "id": "0CUUGuByBsPj"
      },
      "execution_count": null,
      "outputs": []
    },
    {
      "cell_type": "code",
      "source": [
        "f, ax = plt.subplots(figsize=(12, 8))\n",
        "\n",
        "# Mostrar la matriz de correlación como mapa de calor\n",
        "sns.heatmap(matriz_correlacion, vmax=.8, square=True, annot=True, annot_kws={\"fontsize\": 10}, fmt=\".2f\", cmap='Blues')\n",
        "\n",
        "# Agregar título y etiquetas\n",
        "plt.title('Matriz de Correlación')\n",
        "plt.xlabel('Variables')\n",
        "plt.ylabel('Variables')\n",
        "\n",
        "# Mostrar la figura\n",
        "plt.show()"
      ],
      "metadata": {
        "id": "LmlN6cNQmx6g"
      },
      "execution_count": null,
      "outputs": []
    },
    {
      "cell_type": "markdown",
      "source": [
        "La matriz de correlación entre las variables numéricas indica que no hay correlaciones significativas entre las variables analizadas."
      ],
      "metadata": {
        "id": "135QzVZyC_Ld"
      }
    },
    {
      "cell_type": "markdown",
      "source": [
        "## Análisis variables categóricas"
      ],
      "metadata": {
        "id": "QWApbeZC9ano"
      }
    },
    {
      "cell_type": "markdown",
      "source": [
        "#### Distribuciones"
      ],
      "metadata": {
        "id": "6N0-1BK6GE64"
      }
    },
    {
      "cell_type": "code",
      "source": [
        "variables = ['Manufacturer', 'Model', 'Fuel Type']\n",
        "\n",
        "for var in variables:\n",
        "    print(f\"\\n-------------------\\nFrecuencia de la variable '{var}':\")\n",
        "    frecuencia = df_shc[var].value_counts()\n",
        "    for categoria, freq in frecuencia.items():\n",
        "        print(f\"{categoria} {freq}\")"
      ],
      "metadata": {
        "id": "65uDLgsc0XSe"
      },
      "execution_count": null,
      "outputs": []
    },
    {
      "cell_type": "code",
      "source": [
        "fig, axes = plt.subplots(1, 3, figsize=(15, 5))  # 1 fila, 3 columnas\n",
        "\n",
        "for ax, var in zip(axes, variables):\n",
        "    frecuencia = df_shc[var].value_counts()\n",
        "\n",
        "    # Graficar la frecuencia con Matplotlib\n",
        "    frecuencia.plot(kind='bar', ax=ax, color='skyblue', edgecolor='black')\n",
        "    ax.set_title(f'{var}')\n",
        "    ax.set_xlabel('Categoría')\n",
        "    ax.set_ylabel('Frecuencia')\n",
        "    ax.set_xticklabels(frecuencia.index, rotation=45)  # Rotar etiquetas para mejor visibilidad\n",
        "\n",
        "# Ajustar el layout para evitar superposiciones\n",
        "plt.tight_layout()\n",
        "plt.show()"
      ],
      "metadata": {
        "id": "nu8boO6Z4_VW"
      },
      "execution_count": null,
      "outputs": []
    },
    {
      "cell_type": "markdown",
      "source": [
        "## Tratamiento de los datos"
      ],
      "metadata": {
        "id": "56VqJ13LFsvE"
      }
    },
    {
      "cell_type": "markdown",
      "source": [
        "___"
      ],
      "metadata": {
        "id": "pVkJxeIcFxNN"
      }
    },
    {
      "cell_type": "markdown",
      "source": [
        "Se decidió trabajar sólo con las variables numéricas del dataframe ya que son las relevantes para el tipo de modelos que vamos a trabajar, así que se eliminan las variables 'Manufacturer', 'Model', 'Fuel Type'."
      ],
      "metadata": {
        "id": "JMoXHeEDQnS5"
      }
    },
    {
      "cell_type": "code",
      "source": [
        "# Eliminar columnas categóricas específicas\n",
        "df_shc2 = df_shc.drop(columns=['Manufacturer', 'Model', 'Fuel Type'])\n",
        "\n",
        "# Mostrar las primeras filas del DataFrame resultante\n",
        "df_shc2.head()"
      ],
      "metadata": {
        "id": "h3tHAAu2Qj4_",
        "collapsed": true
      },
      "execution_count": null,
      "outputs": []
    },
    {
      "cell_type": "markdown",
      "source": [
        "En el caso de la variable *Year of Manufacture*, para poder darle un mejor tratamiento como número, se ha convertido a *Vehicle Age* que hace referencia a la edad, siendo esta la diferencia entre el año actual 2024 y el año de su manufactura."
      ],
      "metadata": {
        "id": "RUEwtr6FsRdj"
      }
    },
    {
      "cell_type": "code",
      "source": [
        "df_shc2['Vehicle Age'] = 2024 - df_shc2['Year of Manufacture']\n",
        "df_shc2 = df_shc2.drop(columns=['Year of Manufacture'])"
      ],
      "metadata": {
        "id": "FZekJqpquOqA"
      },
      "execution_count": null,
      "outputs": []
    },
    {
      "cell_type": "code",
      "source": [
        "df_shc2.head()"
      ],
      "metadata": {
        "id": "orZAUwZ7Hw6m"
      },
      "execution_count": null,
      "outputs": []
    },
    {
      "cell_type": "markdown",
      "source": [
        "# Modelos"
      ],
      "metadata": {
        "id": "AzjxH87KDDiF"
      }
    },
    {
      "cell_type": "markdown",
      "source": [
        "## K - Means"
      ],
      "metadata": {
        "id": "Z1dZXgcwDG-J"
      }
    },
    {
      "cell_type": "markdown",
      "source": [
        "Se tiene en cuenta:\n",
        "- Sensible a las escalas de los valores\n",
        "- Sensible a correlaciones altas entre variables\n",
        "- Asume cúmulos esféricos\n",
        "- Atípicos sesgan resultados\n",
        "- Hiperparámetro número de clusters (se optimiza con método del codo y coeficiente de silueta)"
      ],
      "metadata": {
        "id": "GNvOWQ-1DJ59"
      }
    },
    {
      "cell_type": "markdown",
      "source": [
        "### Tratamiento para el modelo"
      ],
      "metadata": {
        "id": "UxQwE6j8JmbS"
      }
    },
    {
      "cell_type": "code",
      "source": [
        "# Copia de la base de datos con transformaciones\n",
        "df_shc3 = df_shc2.copy()\n",
        "df_shc3.head()"
      ],
      "metadata": {
        "id": "jGodTywE5WoJ"
      },
      "execution_count": null,
      "outputs": []
    },
    {
      "cell_type": "code",
      "source": [
        "# Escalamos el dataframe\n",
        "df_shc3 = pd.DataFrame(StandardScaler().fit_transform(df_shc3), columns=list(df_shc3.columns))\n",
        "\n",
        "df_shc3.head()"
      ],
      "metadata": {
        "id": "-Lw0rr0p1mVu"
      },
      "execution_count": null,
      "outputs": []
    },
    {
      "cell_type": "code",
      "source": [
        "# Para la implementación del modelo tomamos una muestra aleatoria del dataframe de 15.000 datos\n",
        "data_aleatorio1 = df_shc3.sample(n=15000, random_state=123)\n",
        "data_aleatorio1.head()"
      ],
      "metadata": {
        "id": "giLrgu5GMJVt"
      },
      "execution_count": null,
      "outputs": []
    },
    {
      "cell_type": "code",
      "source": [
        "# Preparamos copias de la muestra aleatoria para probar en diferentes modelos\n",
        "data_aleatorio2 = data_aleatorio1.copy()\n",
        "data_aleatorio3 = data_aleatorio1.copy()\n",
        "data_aleatorio4 = data_aleatorio1.copy()\n",
        "data_aleatorio5 = data_aleatorio1.copy()\n",
        "data_aleatorio6 = data_aleatorio1.copy()\n",
        "data_aleatorio7 = data_aleatorio1.copy()"
      ],
      "metadata": {
        "id": "0ZnJsJ0MUFXS"
      },
      "execution_count": null,
      "outputs": []
    },
    {
      "cell_type": "markdown",
      "source": [
        "### Optmización del número de cluster"
      ],
      "metadata": {
        "id": "uCveVAC8Jt0y"
      }
    },
    {
      "cell_type": "markdown",
      "source": [
        "#### Método del codo"
      ],
      "metadata": {
        "id": "70a7YAZtSsdk"
      }
    },
    {
      "cell_type": "code",
      "source": [
        "# Número optimo de K según método del codo\n",
        "inertia_list = []\n",
        "\n",
        "for i in range(1, 11):\n",
        "    kmeans = KMeans(n_clusters=i, init='k-means++', random_state=113)\n",
        "    kmeans.fit(data_aleatorio1)\n",
        "    inertia_list.append(kmeans.inertia_)\n",
        "\n",
        "plt.plot(range(1,11),inertia_list)\n",
        "plt.scatter(range(1,11),inertia_list)\n",
        "plt.xlabel(\"Número de clusters\", size=10)\n",
        "plt.ylabel(\"Valor de inercia\", size=10)\n",
        "plt.title(\"Valores de inercia según número de clusters\", size=12)\n",
        "plt.show()"
      ],
      "metadata": {
        "id": "j4HyByf3qetS"
      },
      "execution_count": null,
      "outputs": []
    },
    {
      "cell_type": "code",
      "source": [
        "# Seleccion automatica del numero k\n",
        "kl = KneeLocator(range(1, 11),\n",
        "                 inertia_list, curve=\"convex\",\n",
        "                 direction=\"decreasing\")\n",
        "kl.elbow"
      ],
      "metadata": {
        "id": "QeEETLriqpzD"
      },
      "execution_count": null,
      "outputs": []
    },
    {
      "cell_type": "markdown",
      "source": [
        "El análisis automatizado del punto de codo utilizando *KneeLocator* ha determinado que el número óptimo de clusters es 4."
      ],
      "metadata": {
        "id": "2ANHmO8zQvgr"
      }
    },
    {
      "cell_type": "markdown",
      "source": [
        "#### Método de la silueta"
      ],
      "metadata": {
        "id": "bniweHPQJ43_"
      }
    },
    {
      "cell_type": "code",
      "source": [
        "# Número optimo de K según método de la silueta\n",
        "silhouette_scores = []\n",
        "\n",
        "for i in range(2, 11):\n",
        "    kmeans = KMeans(n_clusters=i, init='k-means++', random_state=123)\n",
        "    kmeans.fit(data_aleatorio1)\n",
        "    score_s = silhouette_score(data_aleatorio1, kmeans.labels_)\n",
        "    silhouette_scores.append(score_s)\n",
        "\n",
        "plt.plot(range(2, 11), silhouette_scores)\n",
        "plt.xticks(range(2,11))\n",
        "plt.xlabel(\"Número de clusters\")\n",
        "plt.ylabel(\"Coeficiente de Silueta\")\n",
        "plt.title(\"Coeficiente de silueta vs número de clusters\")\n",
        "plt.show()"
      ],
      "metadata": {
        "id": "a4YhXO2kyYtp"
      },
      "execution_count": null,
      "outputs": []
    },
    {
      "cell_type": "markdown",
      "source": [
        "Graficamente el método de la silueta nos sugiere un número de cluster de 8."
      ],
      "metadata": {
        "id": "dJzO4SyMRiMT"
      }
    },
    {
      "cell_type": "markdown",
      "source": [
        "### Modelos KMeans sin reducción de dimensionalidad"
      ],
      "metadata": {
        "id": "A-NvBxiqTEbk"
      }
    },
    {
      "cell_type": "markdown",
      "source": [
        "#### Segun codo (4 clusters)"
      ],
      "metadata": {
        "id": "YzmtyoMCJ7kX"
      }
    },
    {
      "cell_type": "code",
      "source": [
        "kmeans_constants = {\"init\": \"k-means++\", \"n_init\": 100, \"max_iter\": 500, \"random_state\": 123}\n",
        "\n",
        "# --- Modelo K-means ---\n",
        "model_kmeans_4 = KMeans(n_clusters = 4, **kmeans_constants)\n",
        "model_kmeans_4.fit(data_aleatorio1)"
      ],
      "metadata": {
        "id": "6HP2D40jXj-M"
      },
      "execution_count": null,
      "outputs": []
    },
    {
      "cell_type": "code",
      "source": [
        "# Configuración de estilo con colores vivos y más contraste\n",
        "sns.set(style=\"whitegrid\", context=\"notebook\", palette=\"bright\")\n",
        "\n",
        "# Aplicar PCA para reducir a 2 componentes principales\n",
        "pca = PCA(n_components=2)\n",
        "df_PCA = pca.fit_transform(data_aleatorio1)\n",
        "\n",
        "# Predecir los clústeres para los datos transformados por PCA\n",
        "labels = model_kmeans_4.predict(data_aleatorio1)\n",
        "\n",
        "# Crear el gráfico de dispersión con colores llamativos\n",
        "plt.figure(figsize=(12, 12))\n",
        "scatter = plt.scatter(df_PCA[:, 0], df_PCA[:, 1], c=labels, s=50, cmap=\"Set1\", alpha=0.9, edgecolor='black', linewidth=0.6)\n",
        "\n",
        "# Configuración del título y etiquetas de los ejes\n",
        "plt.title(\"Visualización de Clústeres - K-Means (4 Clústeres)\", fontsize=15, fontweight='bold', color='black')\n",
        "plt.xlabel(\"Componente Principal 1\", fontsize=10, fontweight='bold')\n",
        "plt.ylabel(\"Componente Principal 2\", fontsize=10, fontweight='bold')\n",
        "\n",
        "# Agregar una leyenda para los clústeres\n",
        "legend = plt.legend(*scatter.legend_elements(), title=\"Clústeres\", fontsize=14, title_fontsize='15', loc=\"upper right\", fancybox=True, shadow=True)\n",
        "plt.setp(legend.get_title(), fontweight='bold')\n",
        "\n",
        "# Mejorar la estética con un fondo semi-transparente y ajustes de cuadrícula\n",
        "plt.grid(True, linestyle='--', alpha=0.6)\n",
        "plt.gca().patch.set_alpha(0.95)  # Fondo semi-transparente\n",
        "plt.tight_layout()\n",
        "\n",
        "# Mostrar el gráfico\n",
        "plt.show()"
      ],
      "metadata": {
        "id": "OLxWEcDaJZDW"
      },
      "execution_count": null,
      "outputs": []
    },
    {
      "cell_type": "code",
      "source": [
        "# --- Evaluación del modelo kmeans ---\n",
        "print('Inertia: ', model_kmeans_4.inertia_)\n",
        "print(\"Silhouette Score: \", silhouette_score(data_aleatorio1, model_kmeans_4.labels_))\n",
        "print(\"Calinski Harabasz Score: \", calinski_harabasz_score(data_aleatorio1, model_kmeans_4.labels_))"
      ],
      "metadata": {
        "id": "eSTUtvytKP_H"
      },
      "execution_count": null,
      "outputs": []
    },
    {
      "cell_type": "code",
      "source": [
        "resultados_kmeans = pd.DataFrame(columns=['Modelo', 'Clusters', 'Inercia', 'Silhouette Score', 'Calinski-Harabasz'])"
      ],
      "metadata": {
        "id": "MVzqS9avgG-y"
      },
      "execution_count": null,
      "outputs": []
    },
    {
      "cell_type": "code",
      "source": [
        "# Recopila los resultados en un diccionario\n",
        "resultados = {\n",
        "    'Modelo': 'KMeans sin reducción',\n",
        "    'Clusters': model_kmeans_4.n_clusters,\n",
        "    'Inercia': model_kmeans_4.inertia_,\n",
        "    'Silhouette Score': silhouette_score(data_aleatorio1, model_kmeans_4.labels_),\n",
        "    'Calinski-Harabasz': calinski_harabasz_score(data_aleatorio1, model_kmeans_4.labels_)\n",
        "}\n",
        "\n",
        "# Agrega los resultados al DataFrame\n",
        "resultados_kmeans = pd.concat([resultados_kmeans, pd.DataFrame([resultados])], ignore_index=True)\n",
        "\n",
        "resultados_kmeans.head(10)"
      ],
      "metadata": {
        "id": "02V0WlmcfCn2"
      },
      "execution_count": null,
      "outputs": []
    },
    {
      "cell_type": "markdown",
      "source": [
        "#### Segun silueta (8 clusters)"
      ],
      "metadata": {
        "id": "rVVCpchDKAys"
      }
    },
    {
      "cell_type": "code",
      "source": [
        "kmeans_constants = {\"init\": \"k-means++\", \"n_init\": 100, \"max_iter\": 500, \"random_state\": 123}\n",
        "\n",
        "# --- Modelo K-means ---\n",
        "model_kmeans_8 = KMeans(n_clusters = 8, **kmeans_constants)\n",
        "model_kmeans_8.fit(data_aleatorio2)"
      ],
      "metadata": {
        "id": "cjT4W_iCziYY"
      },
      "execution_count": null,
      "outputs": []
    },
    {
      "cell_type": "code",
      "source": [
        "# Configuración de estilo con colores vivos y más contraste\n",
        "sns.set(style=\"whitegrid\", context=\"notebook\", palette=\"bright\")\n",
        "\n",
        "# Aplicar PCA para reducir a 2 componentes principales\n",
        "pca = PCA(n_components=2)\n",
        "df_PCA = pca.fit_transform(data_aleatorio2)\n",
        "\n",
        "# Predecir los clústeres para los datos transformados por PCA\n",
        "labels = model_kmeans_8.predict(data_aleatorio2)\n",
        "\n",
        "# Crear el gráfico de dispersión con colores llamativos\n",
        "plt.figure(figsize=(12, 12))\n",
        "scatter = plt.scatter(df_PCA[:, 0], df_PCA[:, 1], c=labels, s=50, cmap=\"Set1\", alpha=0.9, edgecolor='black', linewidth=0.6)\n",
        "\n",
        "# Configuración del título y etiquetas de los ejes\n",
        "plt.title(\"Visualización de Clústeres - K-Means (8 Clústeres)\", fontsize=15, fontweight='bold', color='black')\n",
        "plt.xlabel(\"Componente Principal 1\", fontsize=10, fontweight='bold')\n",
        "plt.ylabel(\"Componente Principal 2\", fontsize=10, fontweight='bold')\n",
        "\n",
        "# Agregar una leyenda para los clústeres\n",
        "legend = plt.legend(*scatter.legend_elements(), title=\"Clústeres\", fontsize=14, title_fontsize='15', loc=\"upper right\", fancybox=True, shadow=True)\n",
        "plt.setp(legend.get_title(), fontweight='bold')\n",
        "\n",
        "# Mejorar la estética con un fondo semi-transparente y ajustes de cuadrícula\n",
        "plt.grid(True, linestyle='--', alpha=0.6)\n",
        "plt.gca().patch.set_alpha(0.95)  # Fondo semi-transparente\n",
        "plt.tight_layout()\n",
        "\n",
        "# Mostrar el gráfico\n",
        "plt.show()"
      ],
      "metadata": {
        "id": "A7D3VAT9p9Qf"
      },
      "execution_count": null,
      "outputs": []
    },
    {
      "cell_type": "code",
      "source": [
        "# --- Evaluación del modelo kmeans ---\n",
        "print('Inertia: ', model_kmeans_8.inertia_)\n",
        "print(\"Silhouette Score: \", silhouette_score(data_aleatorio2, model_kmeans_8.labels_))\n",
        "print(\"Calinski Harabasz Score: \", calinski_harabasz_score(data_aleatorio2, model_kmeans_8.labels_))"
      ],
      "metadata": {
        "id": "G11AVx6Ry4mq"
      },
      "execution_count": null,
      "outputs": []
    },
    {
      "cell_type": "code",
      "source": [
        "# Recopila los resultados en un diccionario\n",
        "resultados = {\n",
        "    'Modelo': 'KMeans sin reducción',\n",
        "    'Clusters': model_kmeans_8.n_clusters,\n",
        "    'Inercia': model_kmeans_8.inertia_,\n",
        "    'Silhouette Score': silhouette_score(data_aleatorio2, model_kmeans_8.labels_),\n",
        "    'Calinski-Harabasz': calinski_harabasz_score(data_aleatorio2, model_kmeans_8.labels_)\n",
        "}\n",
        "\n",
        "# Agrega los resultados al DataFrame\n",
        "resultados_kmeans = pd.concat([resultados_kmeans, pd.DataFrame([resultados])], ignore_index=True)\n",
        "\n",
        "resultados_kmeans.head(10)"
      ],
      "metadata": {
        "id": "ltTPrjlSggN0"
      },
      "execution_count": null,
      "outputs": []
    },
    {
      "cell_type": "markdown",
      "source": [
        "### Reducción de dimensionalidad"
      ],
      "metadata": {
        "id": "Ht221jHyZK7q"
      }
    },
    {
      "cell_type": "code",
      "source": [
        "pca = PCA(n_components=0.90).fit(data_aleatorio1)\n",
        "pca.n_components_"
      ],
      "metadata": {
        "id": "M8PCN-viZRPO"
      },
      "execution_count": null,
      "outputs": []
    },
    {
      "cell_type": "code",
      "source": [
        "pca.explained_variance_ratio_"
      ],
      "metadata": {
        "id": "6-9jgkFaZxvG"
      },
      "execution_count": null,
      "outputs": []
    },
    {
      "cell_type": "code",
      "source": [
        "# --- Varianza explicada ---\n",
        "PCA_variance = pd.DataFrame({'Varianza explicada (%)':\n",
        "                             pca.explained_variance_ratio_*100})\n",
        "\n",
        "fig, ax = plt.subplots(1, 1, figsize = (7, 5))\n",
        "\n",
        "bar = sns.barplot(x = ['PC ' + str(i) for i in range(1, 5)],\n",
        "                  y = PCA_variance['Varianza explicada (%)'],\n",
        "                  linewidth = 1.5, edgecolor = 'k', color = '#4bafb8',\n",
        "                  alpha = 0.8)\n",
        "\n",
        "plt.show()"
      ],
      "metadata": {
        "id": "PefY5yHxZrT0"
      },
      "execution_count": null,
      "outputs": []
    },
    {
      "cell_type": "code",
      "source": [
        "pca = PCA(n_components=3).fit(data_aleatorio1)\n",
        "\n",
        "pca.n_components_\n",
        "\n",
        "X_pca = pca.fit_transform(data_aleatorio1)\n",
        "X_pca[:3]"
      ],
      "metadata": {
        "id": "BG3Y2JAmZvUF"
      },
      "execution_count": null,
      "outputs": []
    },
    {
      "cell_type": "code",
      "source": [
        "X_pca2 = X_pca.copy()\n",
        "X_pca3 = X_pca.copy()"
      ],
      "metadata": {
        "id": "ZCdEicAuckgH"
      },
      "execution_count": null,
      "outputs": []
    },
    {
      "cell_type": "code",
      "source": [
        "pesos_pca = pd.DataFrame(pca.components_, columns = data_aleatorio1.columns,\n",
        "             index = ['PC 1', 'PC 2', 'PC 3']).round(2).T\n",
        "\n",
        "pesos_pca"
      ],
      "metadata": {
        "id": "ox_UTFbiaFpQ"
      },
      "execution_count": null,
      "outputs": []
    },
    {
      "cell_type": "markdown",
      "source": [
        "#### Nuevo método codo"
      ],
      "metadata": {
        "id": "-BEZ3vVOaYAb"
      }
    },
    {
      "cell_type": "code",
      "source": [
        "# Número optimo de K según método del codo\n",
        "inertia_list_pca = []\n",
        "\n",
        "for i in range(1, 11):\n",
        "    kmeans = KMeans(n_clusters=i, init='k-means++', random_state=113)\n",
        "    kmeans.fit(X_pca)\n",
        "    inertia_list_pca.append(kmeans.inertia_)\n",
        "\n",
        "plt.plot(range(1,11),inertia_list_pca)\n",
        "plt.scatter(range(1,11),inertia_list_pca)\n",
        "plt.xlabel(\"Número de clusters\", size=10)\n",
        "plt.ylabel(\"Valor de inercia\", size=10)\n",
        "plt.title(\"Valores de inercia según número de clusters\", size=12)\n",
        "plt.show()"
      ],
      "metadata": {
        "id": "nSdRIcuKaQfg"
      },
      "execution_count": null,
      "outputs": []
    },
    {
      "cell_type": "code",
      "source": [
        "# Seleccion automatica del numero k\n",
        "kl = KneeLocator(range(1, 11),\n",
        "                 inertia_list_pca, curve=\"convex\",\n",
        "                 direction=\"decreasing\")\n",
        "kl.elbow"
      ],
      "metadata": {
        "id": "ghZrpiJYa4IB"
      },
      "execution_count": null,
      "outputs": []
    },
    {
      "cell_type": "markdown",
      "source": [
        "#### Nuevo método silueta"
      ],
      "metadata": {
        "id": "zsT_arUwa9wq"
      }
    },
    {
      "cell_type": "code",
      "source": [
        "silhouette_scores_pca = []\n",
        "\n",
        "for i in range(2, 11):\n",
        "    kmeans = KMeans(n_clusters=i, init='k-means++', random_state=3)\n",
        "    kmeans.fit(X_pca)\n",
        "    score_s = silhouette_score(X_pca, kmeans.labels_)\n",
        "    silhouette_scores_pca.append(score_s)\n",
        "\n",
        "# Visualización de score de silueta vs k\n",
        "plt.plot(range(2, 11), silhouette_scores_pca)\n",
        "plt.xticks(range(2,11))\n",
        "plt.xlabel(\"Número de clusters\")\n",
        "plt.ylabel(\"Coeficiente de Silueta\")\n",
        "plt.title(\"Coeficiente de silueta vs número de clusters\")\n",
        "plt.show()"
      ],
      "metadata": {
        "id": "05zRtF-YbBEN"
      },
      "execution_count": null,
      "outputs": []
    },
    {
      "cell_type": "markdown",
      "source": [
        "Graficamente el método de la silueta nos sugiere un número de cluster de 6."
      ],
      "metadata": {
        "id": "criD2q08bX9_"
      }
    },
    {
      "cell_type": "markdown",
      "source": [
        "### Modelos KMeans con reducción de dimensión"
      ],
      "metadata": {
        "id": "uzRFByvpbcMd"
      }
    },
    {
      "cell_type": "markdown",
      "source": [
        "#### Nuevo kmeans según codo (4 clusters)"
      ],
      "metadata": {
        "id": "Rk1uj0wLb2cr"
      }
    },
    {
      "cell_type": "code",
      "source": [
        "kmeans_constants = {\"init\": \"k-means++\", \"n_init\": 100, \"max_iter\": 500, \"random_state\": 123}\n",
        "\n",
        "# --- Modelo K-means ---\n",
        "model_kmeans_pca_4 = KMeans(n_clusters = 4, **kmeans_constants)\n",
        "model_kmeans_pca_4.fit(X_pca)"
      ],
      "metadata": {
        "id": "5oKBzzSQb74n"
      },
      "execution_count": null,
      "outputs": []
    },
    {
      "cell_type": "code",
      "source": [
        "X_pca = PCA(n_components=2).fit_transform(X_pca)\n",
        "model_kmeans_pca_4 = KMeans(n_clusters=4, init=\"k-means++\", n_init=100, max_iter=500, random_state=123).fit(X_pca)\n",
        "labels = model_kmeans_pca_4.labels_\n",
        "\n",
        "# Configuración de estilo y gráfico\n",
        "sns.set(style=\"whitegrid\", context=\"notebook\", palette=\"tab10\")\n",
        "plt.figure(figsize=(12, 12))\n",
        "scatter = plt.scatter(X_pca[:, 0], X_pca[:, 1], c=labels, s=50, cmap=\"tab10\", alpha=0.9, edgecolor='black', linewidth=0.6)\n",
        "\n",
        "# Títulos, etiquetas y leyenda\n",
        "plt.title(\"Visualización de Clústeres - K-Means PCA (4 Clústeres)\", fontsize=15, fontweight='bold')\n",
        "plt.xlabel(\"Componente Principal 1\", fontsize=10, fontweight='bold')\n",
        "plt.ylabel(\"Componente Principal 2\", fontsize=10, fontweight='bold')\n",
        "plt.legend(*scatter.legend_elements(), title=\"Clústeres\", fontsize=14, title_fontsize='15', loc=\"upper right\", fancybox=True, shadow=True)\n",
        "\n",
        "# Mejorar estética y mostrar gráfico\n",
        "plt.grid(True, linestyle='--', alpha=0.6)\n",
        "plt.gca().patch.set_alpha(0.95)\n",
        "plt.tight_layout()\n",
        "plt.show()"
      ],
      "metadata": {
        "id": "3nXvfc5pcywE"
      },
      "execution_count": null,
      "outputs": []
    },
    {
      "cell_type": "code",
      "source": [
        "# --- Evaluación del modelo kmeans con dataset reducido ---\n",
        "print(\" ### K-MEANS ###\")\n",
        "print('Inertia: ', model_kmeans_pca_4.inertia_)\n",
        "print('Silhouette Score: ', silhouette_score(X_pca, model_kmeans_pca_4.labels_))\n",
        "print('Calinski harabasz score: ', calinski_harabasz_score(X_pca, model_kmeans_pca_4.labels_))"
      ],
      "metadata": {
        "id": "UhWO2fpqdPc_"
      },
      "execution_count": null,
      "outputs": []
    },
    {
      "cell_type": "code",
      "source": [
        "# Recopila los resultados en un diccionario\n",
        "resultados = {\n",
        "    'Modelo': 'KMeans con PCA',\n",
        "    'Clusters': model_kmeans_pca_4.n_clusters,\n",
        "    'Inercia': model_kmeans_pca_4.inertia_,\n",
        "    'Silhouette Score': silhouette_score(X_pca, model_kmeans_pca_4.labels_),\n",
        "    'Calinski-Harabasz': calinski_harabasz_score(X_pca, model_kmeans_pca_4.labels_)\n",
        "}\n",
        "\n",
        "# Agrega los resultados al DataFrame\n",
        "resultados_kmeans = pd.concat([resultados_kmeans, pd.DataFrame([resultados])], ignore_index=True)\n",
        "\n",
        "# Muestra la tabla actualizada\n",
        "resultados_kmeans.head(10)"
      ],
      "metadata": {
        "id": "4pvPV1UOg7Ho"
      },
      "execution_count": null,
      "outputs": []
    },
    {
      "cell_type": "markdown",
      "source": [
        "#### Nuevo kmeans según silueta (6 clusters)"
      ],
      "metadata": {
        "id": "NxNvn1NMdheN"
      }
    },
    {
      "cell_type": "code",
      "source": [
        "kmeans_constants = {\"init\": \"k-means++\", \"n_init\": 100, \"max_iter\": 500, \"random_state\": 123}\n",
        "\n",
        "# --- Modelo K-means ---\n",
        "model_kmeans_pca_6 = KMeans(n_clusters = 6, **kmeans_constants)\n",
        "model_kmeans_pca_6.fit(X_pca2)"
      ],
      "metadata": {
        "id": "50UPStvWdmig"
      },
      "execution_count": null,
      "outputs": []
    },
    {
      "cell_type": "code",
      "source": [
        "X_pca2 = PCA(n_components=2).fit_transform(X_pca2)\n",
        "model_kmeans_pca_6 = KMeans(n_clusters=6, init=\"k-means++\", n_init=100, max_iter=500, random_state=123).fit(X_pca2)\n",
        "labels = model_kmeans_pca_6.labels_\n",
        "\n",
        "# Configuración de estilo y gráfico\n",
        "sns.set(style=\"whitegrid\", context=\"notebook\", palette=\"tab10\")\n",
        "plt.figure(figsize=(12, 12))\n",
        "scatter = plt.scatter(X_pca2[:, 0], X_pca2[:, 1], c=labels, s=50, cmap=\"tab10\", alpha=0.9, edgecolor='black', linewidth=0.6)\n",
        "\n",
        "# Títulos, etiquetas y leyenda\n",
        "plt.title(\"Visualización de Clústeres - K-Means PCA (6 Clústeres)\", fontsize=15, fontweight='bold')\n",
        "plt.xlabel(\"Componente Principal 1\", fontsize=10, fontweight='bold')\n",
        "plt.ylabel(\"Componente Principal 2\", fontsize=10, fontweight='bold')\n",
        "plt.legend(*scatter.legend_elements(), title=\"Clústeres\", fontsize=14, title_fontsize='15', loc=\"upper right\", fancybox=True, shadow=True)\n",
        "\n",
        "# Mejorar estética y mostrar gráfico\n",
        "plt.grid(True, linestyle='--', alpha=0.6)\n",
        "plt.gca().patch.set_alpha(0.95)\n",
        "plt.tight_layout()\n",
        "plt.show()"
      ],
      "metadata": {
        "id": "RRgRDZJjdq6u"
      },
      "execution_count": null,
      "outputs": []
    },
    {
      "cell_type": "code",
      "source": [
        "# --- Evaluación del modelo kmeans con dataset reducido ---\n",
        "print(\" ### K-MEANS ###\")\n",
        "print('Inertia: ', model_kmeans_pca_6.inertia_)\n",
        "print('Silhouette Score: ', silhouette_score(X_pca2, model_kmeans_pca_6.labels_))\n",
        "print('Calinski harabasz score: ', calinski_harabasz_score(X_pca2, model_kmeans_pca_6.labels_))"
      ],
      "metadata": {
        "id": "RvUqrH-od2hF"
      },
      "execution_count": null,
      "outputs": []
    },
    {
      "cell_type": "code",
      "source": [
        "# Recopila los resultados en un diccionario\n",
        "resultados = {\n",
        "    'Modelo': 'KMeans con PCA',\n",
        "    'Clusters': model_kmeans_pca_6.n_clusters,\n",
        "    'Inercia': model_kmeans_pca_6.inertia_,\n",
        "    'Silhouette Score': silhouette_score(X_pca2, model_kmeans_pca_6.labels_),\n",
        "    'Calinski-Harabasz': calinski_harabasz_score(X_pca2, model_kmeans_pca_6.labels_)\n",
        "}\n",
        "\n",
        "# Agrega los resultados al DataFrame\n",
        "resultados_kmeans = pd.concat([resultados_kmeans, pd.DataFrame([resultados])], ignore_index=True)\n",
        "\n",
        "# Muestra la tabla actualizada\n",
        "resultados_kmeans.head(10)"
      ],
      "metadata": {
        "id": "yxhlrz6AhkrF"
      },
      "execution_count": null,
      "outputs": []
    },
    {
      "cell_type": "markdown",
      "source": [
        "## Jerárquico"
      ],
      "metadata": {
        "id": "5ARAH6yOEB6I"
      }
    },
    {
      "cell_type": "markdown",
      "source": [
        "- Dependiendo del cálculo de proximidades puede ser sensible al ruido y a atípicos y tiende a romper grupos grandes\n",
        "- Utiliza formas convexas.\n",
        "- Se debe definir la forma de calcular las proximidades\n",
        "    - Max (Funciona bien con ruido entre grupos, está sesgado a formas circulares y tiende a romper grupos grandes)\n",
        "    - Promedio grupo (Funciona bien con ruido entre grupos y está sesgado a formas circulares)\n",
        "    - Ward (es común, funciona igual que promedio grupo pero con SSE, es poco susceptible al ruido y a los datos atípicos)\n"
      ],
      "metadata": {
        "id": "rFFjDVMxEEoO"
      }
    },
    {
      "cell_type": "markdown",
      "source": [
        "### Distribución de la muestra"
      ],
      "metadata": {
        "id": "7UwaKJYMEveG"
      }
    },
    {
      "cell_type": "markdown",
      "source": [
        "Comprobemos la distribución de la muestra"
      ],
      "metadata": {
        "id": "vjsG6DN8DnYb"
      }
    },
    {
      "cell_type": "code",
      "source": [
        "data = df_shc3.sample(n=3000, random_state=123)\n",
        "numericas1 = data.select_dtypes(include=[np.number])"
      ],
      "metadata": {
        "id": "XhtGdsSgDm-F"
      },
      "execution_count": null,
      "outputs": []
    },
    {
      "cell_type": "code",
      "source": [
        "# Escalamos el dataframe\n",
        "numericas1  = pd.DataFrame(StandardScaler().fit_transform(numericas1 ), columns=list(numericas1 .columns))\n",
        "numericas1 .head()"
      ],
      "metadata": {
        "id": "_Oe6aOFLoqt3"
      },
      "execution_count": null,
      "outputs": []
    },
    {
      "cell_type": "code",
      "source": [
        "fig, axs = plt.subplots(2, 2, figsize=(12, 10))  # 2 filas y 2 columnas\n",
        "axs = axs.flatten()  # Aplanar el array de ejes para facilitar el acceso\n",
        "\n",
        "# Iterar sobre las columnas numéricas y graficar\n",
        "for i, col in enumerate(numericas1.columns):\n",
        "    sns.histplot(data[col], kde=True, ax=axs[i], color='skyblue', edgecolor='black')\n",
        "    axs[i].set_title(f'Distribución de {col}')\n",
        "    axs[i].set_xlabel(col)\n",
        "    axs[i].set_ylabel('Frecuencia')\n",
        "\n",
        "# Ajustar el layout\n",
        "plt.tight_layout()\n",
        "plt.show()"
      ],
      "metadata": {
        "id": "0NXaR_EvDeM3"
      },
      "execution_count": null,
      "outputs": []
    },
    {
      "cell_type": "markdown",
      "source": [
        "Luego de comparar la distribución de una muestra del 6% de los datos originales con la distribución de estos mismos datos, concluimos que ambas son similares. Esto nos permite afirmar que la muestra del 6% será adecuada para entrenar el modelo, lo que nos ayudará a ahorrar capacidad computacional."
      ],
      "metadata": {
        "id": "ZC9jxw1bF_5Q"
      }
    },
    {
      "cell_type": "markdown",
      "source": [
        "### Dendograma"
      ],
      "metadata": {
        "id": "BuEruAmGE3u1"
      }
    },
    {
      "cell_type": "code",
      "source": [
        "# Lista de métodos de linkage a probar\n",
        "methods = ['single', 'complete', 'average', 'ward']\n",
        "label_list = list(data['Vehicle Age'])\n",
        "\n",
        "plt.figure(figsize=(25, 18))\n",
        "\n",
        "# Generar y graficar un dendrograma por cada método de linkage\n",
        "for i, method in enumerate(methods, 1):\n",
        "    Z = linkage(data, method=method)\n",
        "\n",
        "    # Subplot para cada dendrograma\n",
        "    plt.subplot(2, 2, i)\n",
        "    plt.title(f'Dendrograma - Método: {method}')\n",
        "    dendrogram(\n",
        "            Z,\n",
        "            labels=label_list,\n",
        "            leaf_rotation=90,\n",
        "            distance_sort = 'descending',\n",
        "            orientation='right',\n",
        "            show_leaf_counts=False,\n",
        "            leaf_font_size=14)\n",
        "    plt.xlabel('Índices de las muestras')\n",
        "    plt.ylabel('Distancia')\n",
        "plt.tight_layout()\n",
        "plt.show()\n"
      ],
      "metadata": {
        "id": "emffWOozxMCd"
      },
      "execution_count": null,
      "outputs": []
    },
    {
      "cell_type": "markdown",
      "source": [
        "- **Método \"Single\":** Muy sensible al ruido, el dendrograma se ve muy denso en las primeras fusiones, lo que sugiere que hay muchas fusiones pequeñas a distancias muy cortas y no genera agrupación de clústeres grandes.\n",
        "- **Método \"Complete\":** Hay una distancia clara y significativa entre las últimas fusiones, lo que puede ser útil para decidir un corte en el dendrograma. Los clústeres resultantes tienden a estar más equilibrados.\n",
        "- **Método \"Average\":** El dendrograma muestra un comportamiento intermedio entre los métodos \"Single\" y \"Complete\". Los clústeres no están tan fragmentados como en el método \"Single\", ni tan compactos como en \"Complete\".\n",
        "- **Método \"Ward\":** Se observa que los clústeres se forman de manera muy jerárquica, con claras divisiones en niveles de distancia bien definidos.\n",
        "Hay pocas fusiones grandes al final, lo que sugiere que los clústeres son bien separados y pueden ser más fáciles de interpretar.\n",
        "\n",
        "Debido a estas conclusiones hemos definido que usaremos el método \"Ward\""
      ],
      "metadata": {
        "id": "S5tFbAlX2vcy"
      }
    },
    {
      "cell_type": "code",
      "source": [
        " #Funcion de vinculación para agrupar los datos según similitud\n",
        "\n",
        " Z = linkage(data, 'ward')\n",
        "\n",
        " # Gráfica del dendrograma\n",
        " label_list = list(data['Vehicle Age'])\n",
        "\n",
        " plt.figure(figsize=(25, 18))\n",
        " dendrogram(\n",
        "     Z,\n",
        "     labels=label_list,\n",
        "     leaf_rotation=90,\n",
        "     distance_sort = 'ascending',\n",
        "     orientation='right',\n",
        "     show_leaf_counts=False,\n",
        "     leaf_font_size=14)\n",
        " plt.show()"
      ],
      "metadata": {
        "id": "dKu1cUyezacq"
      },
      "execution_count": null,
      "outputs": []
    },
    {
      "cell_type": "markdown",
      "source": [
        "Realizaremos una comparación visual, entre el coeficiente de silueta y de Calinski con diferentes números de clústeres, para finalmente tomar la desición de la cantidad de clústeres."
      ],
      "metadata": {
        "id": "FVLOqyIn3gfV"
      }
    },
    {
      "cell_type": "code",
      "source": [
        "# Para almacenar resultados\n",
        "silhouette_scores_hc = []\n",
        "calinski_scores_hc = []\n",
        "\n",
        "# Recorreremos el número de clusters de 2 a 10\n",
        "for k in range(2, 11):\n",
        "    # Instanciar AgglomerativeClustering con el número de clústeres\n",
        "    hc_t1 = AgglomerativeClustering(n_clusters=k,\n",
        "                                 linkage='ward')\n",
        "    hc_t1.fit(data)\n",
        "\n",
        "    # Calcular el coeficiente de silueta\n",
        "    score_s = silhouette_score(data, hc_t1.labels_)\n",
        "    silhouette_scores_hc.append(score_s)\n",
        "\n",
        "    # Calcular el coeficiente de Calinski-Harabasz\n",
        "    score_c = calinski_harabasz_score(data, hc_t1.labels_)\n",
        "    calinski_scores_hc.append(score_c)\n",
        "\n",
        "# Visualizar los resultados\n",
        "import matplotlib.pyplot as plt\n",
        "\n",
        "x_range = range(2, 11)\n",
        "plt.figure(figsize=(10, 5))\n",
        "\n",
        "# Gráfico del coeficiente de silueta\n",
        "plt.subplot(1, 2, 1)\n",
        "plt.plot(x_range, silhouette_scores_hc, marker='o', label='Silhouette Score')\n",
        "plt.title('Coeficiente de Silueta')\n",
        "plt.xlabel('Número de Clústeres')\n",
        "plt.ylabel('Puntuación Silueta')\n",
        "plt.grid(True)\n",
        "\n",
        "# Gráfico del coeficiente de Calinski-Harabasz\n",
        "plt.subplot(1, 2, 2)\n",
        "plt.plot(x_range, calinski_scores_hc, marker='o', label='Calinski-Harabasz Score', color='orange')\n",
        "plt.title('Coeficiente de Calinski-Harabasz')\n",
        "plt.xlabel('Número de Clústeres')\n",
        "plt.ylabel('Puntuación Calinski-Harabasz')\n",
        "plt.grid(True)\n",
        "\n",
        "plt.tight_layout()\n",
        "plt.show()"
      ],
      "metadata": {
        "id": "L0HGc0T566qA"
      },
      "execution_count": null,
      "outputs": []
    },
    {
      "cell_type": "markdown",
      "source": [
        "El número de clústeres que nos dan la \"mejor\" combinación entre el coeficiente de Silueta y de Calinski-Harabasz es 3. Debido a que la combinación que arroja 6 clústeres da una mayor perdida en el coeficiente de Calinski que ganancia en el de Silueta y una mayor cantidad de clústeres podria no ser de ayuda."
      ],
      "metadata": {
        "id": "RYjj98XbIf94"
      }
    },
    {
      "cell_type": "markdown",
      "source": [
        "### Entrenamiento del modelo de agrupación Jerárquica en el conjunto de datos"
      ],
      "metadata": {
        "id": "_DS0y38V4EvG"
      }
    },
    {
      "cell_type": "code",
      "source": [
        "hc = AgglomerativeClustering(\n",
        "    n_clusters = 3,\n",
        "    linkage = 'ward'\n",
        ")\n",
        "\n",
        "y_hc = hc.fit_predict(data)\n",
        "print(y_hc)"
      ],
      "metadata": {
        "id": "jzeAKpUr4Abk"
      },
      "execution_count": null,
      "outputs": []
    },
    {
      "cell_type": "code",
      "source": [
        "data.loc[:, 'Cluster'] = y_hc\n",
        "data.head()"
      ],
      "metadata": {
        "id": "PvBz9E2D4iNS"
      },
      "execution_count": null,
      "outputs": []
    },
    {
      "cell_type": "markdown",
      "source": [
        "### Visualización con PCA"
      ],
      "metadata": {
        "id": "BehRsnVCOfp_"
      }
    },
    {
      "cell_type": "code",
      "source": [
        "# Reducir a 3 dimensiones con PCA\n",
        "pca = PCA(n_components=3)\n",
        "data_3d = pca.fit_transform(data)\n",
        "\n",
        "# Aplicar clustering a los datos en 3D\n",
        "y_hc = hc.fit_predict(data_3d)\n",
        "\n",
        "# Crear la figura 3D\n",
        "fig = plt.figure(figsize=(10, 7))\n",
        "ax = fig.add_subplot(111, projection='3d')\n",
        "\n",
        "# Visualizar los clusters en 3D\n",
        "u_labels = np.unique(y_hc)\n",
        "for i in u_labels:\n",
        "    ax.scatter(\n",
        "        data_3d[y_hc == i, 0],  # Primera componente principal\n",
        "        data_3d[y_hc == i, 1],  # Segunda componente principal\n",
        "        data_3d[y_hc == i, 2],  # Tercera componente principal\n",
        "        label=f'Cluster {i}'\n",
        "    )\n",
        "\n",
        "# Configurar etiquetas y leyenda\n",
        "ax.set_xlabel('PCA 1')\n",
        "ax.set_ylabel('PCA 2')\n",
        "ax.set_zlabel('PCA 3')\n",
        "plt.title('3D Visualization of Clusters with PCA')\n",
        "plt.legend()\n",
        "plt.show()"
      ],
      "metadata": {
        "id": "pE9ModXVO7Xb"
      },
      "execution_count": null,
      "outputs": []
    },
    {
      "cell_type": "code",
      "source": [
        "# Reducir a 2 dimensiones con PCA\n",
        "pca = PCA(n_components=2)\n",
        "data_3d = pca.fit_transform(data)\n",
        "\n",
        "# Aplicar clustering a los datos en 3D\n",
        "y_hc = hc.fit_predict(data_3d)\n",
        "\n",
        "# Crear la figura 3D\n",
        "fig = plt.figure(figsize=(10, 7))\n",
        "ax = fig.add_subplot(111, projection='3d')\n",
        "\n",
        "# Visualizar los clusters en 3D\n",
        "u_labels = np.unique(y_hc)\n",
        "for i in u_labels:\n",
        "    ax.scatter(\n",
        "        data_3d[y_hc == i, 0],  # Primera componente principal\n",
        "        data_3d[y_hc == i, 1],  # Segunda componente principal\n",
        "        label=f'Cluster {i}'\n",
        "    )\n",
        "\n",
        "# Configurar etiquetas y leyenda\n",
        "ax.set_xlabel('PCA 1')\n",
        "ax.set_ylabel('PCA 2')\n",
        "plt.title('3D Visualization of Clusters with PCA')\n",
        "plt.legend()\n",
        "plt.show()"
      ],
      "metadata": {
        "id": "Pz3zxcZG_Q6f"
      },
      "execution_count": null,
      "outputs": []
    },
    {
      "cell_type": "markdown",
      "source": [
        "## Gaussian Mixture Clustering"
      ],
      "metadata": {
        "id": "FtqGUJgyG4gu"
      }
    },
    {
      "cell_type": "markdown",
      "source": [
        "- Supone una distribución normal en las características\n",
        "- Sensible a atípicos\n",
        "- No asume cúmulos esféricos\n",
        "- Agrupa los datos que pertenecen a cierta distribución\n",
        "- Menos sensible a las diferencias en escalas\n",
        "- Realizar multiples iteraciones para la inicialización como k means\n",
        "- Se necesita definir el número de clusters:\n",
        "    - AIC\n",
        "    - BIC\n",
        "- Hiperparametro tipo de matriz de covarianza\n"
      ],
      "metadata": {
        "id": "hg1DyGILG6aF"
      }
    },
    {
      "cell_type": "markdown",
      "source": [
        "### Reducción de dimensionalidad"
      ],
      "metadata": {
        "id": "Y7zD9RTCYyyi"
      }
    },
    {
      "cell_type": "code",
      "source": [
        "pca_gmm = PCA(n_components=0.90).fit(data_aleatorio5)\n",
        "pca_gmm .n_components_"
      ],
      "metadata": {
        "id": "dxeVpIu0FjIn"
      },
      "execution_count": null,
      "outputs": []
    },
    {
      "cell_type": "code",
      "source": [
        "pca_gmm.explained_variance_ratio_"
      ],
      "metadata": {
        "id": "CfGJmyAeF7Xv"
      },
      "execution_count": null,
      "outputs": []
    },
    {
      "cell_type": "code",
      "source": [
        "pca_gmm = PCA(n_components=3).fit(data_aleatorio5)\n",
        "X_pca_gmm = pca_gmm.fit_transform(data_aleatorio5)"
      ],
      "metadata": {
        "id": "WmAuQYpiGPPk"
      },
      "execution_count": null,
      "outputs": []
    },
    {
      "cell_type": "code",
      "source": [
        "X_pca_gmm2 = X_pca_gmm.copy()"
      ],
      "metadata": {
        "id": "muYFIosMJS6v"
      },
      "execution_count": null,
      "outputs": []
    },
    {
      "cell_type": "markdown",
      "source": [
        "### Estimación de las métricas BIC y AIC"
      ],
      "metadata": {
        "id": "K9rzqKioZKQW"
      }
    },
    {
      "cell_type": "code",
      "source": [
        "# Estimación de hiperparámetros, con las metricas BIC, AIC\n",
        "# Se estima un numero de componentes aleatorio haciendo una variación de 2 a 12\n",
        "n_components = np.arange(2, 12)\n",
        "\n",
        "models_g = [GaussianMixture(n_components=n, random_state=123).fit(X_pca_gmm) for n in n_components]\n",
        "\n",
        "plt.plot(n_components, [m.bic(X_pca_gmm) for m in models_g], label=\"BIC\")\n",
        "plt.plot(n_components, [m.aic(X_pca_gmm) for m in models_g], label=\"AIC\")\n",
        "plt.legend()\n",
        "plt.xlabel(\"Número de Clusters\")"
      ],
      "metadata": {
        "id": "JG-abfhZJ3rl"
      },
      "execution_count": null,
      "outputs": []
    },
    {
      "cell_type": "markdown",
      "source": [
        "Podemos observas en a gráfica que para ambas metricas difieren un poco pero, ambas muestran que está entre 4 y 5 clusters que podríamos analizar"
      ],
      "metadata": {
        "id": "MY_96ZtVKcXX"
      }
    },
    {
      "cell_type": "markdown",
      "source": [
        "### Modelo con 4 clusters"
      ],
      "metadata": {
        "id": "0-VDdHyqZyAo"
      }
    },
    {
      "cell_type": "code",
      "source": [
        "# Modelo GMM- entrenamiento del modelo con 4 componentes con una covarianza tipo full\n",
        "model_gmm_4 = GaussianMixture(n_components=4, random_state=123, covariance_type = 'full').fit(X_pca_gmm)"
      ],
      "metadata": {
        "id": "1jdwqLSJKdjH"
      },
      "execution_count": null,
      "outputs": []
    },
    {
      "cell_type": "code",
      "source": [
        "# Predicciones y evaluación del modelo GMM con las metricas silhouette_score y calinski\n",
        "labels_ = model_gmm_4.predict(X_pca_gmm)\n",
        "\n",
        "print(\" ### GMMM ###\")\n",
        "print('Silhouette Score: ', silhouette_score(X_pca_gmm, labels_))\n",
        "print('Calinski harabasz score: ', calinski_harabasz_score(X_pca_gmm, labels_))"
      ],
      "metadata": {
        "id": "pkXHOao3KhTg"
      },
      "execution_count": null,
      "outputs": []
    },
    {
      "cell_type": "code",
      "source": [
        "clusters_4 = model_gmm_4.predict(X_pca_gmm)\n",
        "data_aleatorio5['clusters_4'] = clusters_4\n",
        "\n",
        "# Predicciones de los cluster\n",
        "data_aleatorio5['PCA_1'] = X_pca_gmm[:, 0]\n",
        "data_aleatorio5['PCA_2'] = X_pca_gmm[:, 1]\n",
        "data_aleatorio5['PCA_3'] = X_pca_gmm[:, 2]\n",
        "\n",
        "# 3d scatterplot using plotly.express\n",
        "data_aleatorio5['clusters_4'] = data_aleatorio5['clusters_4'].astype('category')\n",
        "fig = px.scatter_3d(data_aleatorio5, x=\"PCA_1\", y=\"PCA_2\", z=\"PCA_3\", color=\"clusters_4\")\n",
        "fig.update_layout(width=1000, height=700)\n",
        "fig.show()"
      ],
      "metadata": {
        "id": "gRNln_rOCpij"
      },
      "execution_count": null,
      "outputs": []
    },
    {
      "cell_type": "markdown",
      "source": [
        "### Modelo con 5 clusters"
      ],
      "metadata": {
        "id": "E3TAlwm3eKNl"
      }
    },
    {
      "cell_type": "markdown",
      "source": [
        "Ahora con 5 componentes"
      ],
      "metadata": {
        "id": "0p7Et53BLF8p"
      }
    },
    {
      "cell_type": "code",
      "source": [
        "# Modelo GMM- entrenamiento del modelo con 5 componentes con una covarianza tipo full\n",
        "model_gmm_5 = GaussianMixture(n_components=5, random_state=123, covariance_type = 'full').fit(X_pca_gmm2)"
      ],
      "metadata": {
        "id": "DZKBeP67LGyW"
      },
      "execution_count": null,
      "outputs": []
    },
    {
      "cell_type": "code",
      "source": [
        "# Predicciones y evaluación del modelo GMM con las metricas silhouette_score y calinski\n",
        "labels_ = model_gmm_5.predict(X_pca_gmm2)\n",
        "\n",
        "print(\" ### GMMM ###\")\n",
        "print('Silhouette Score: ', silhouette_score(X_pca_gmm2, labels_))\n",
        "print('Calinski harabasz score: ', calinski_harabasz_score(X_pca_gmm2, labels_))"
      ],
      "metadata": {
        "id": "wj9UH1t6LJ0q"
      },
      "execution_count": null,
      "outputs": []
    },
    {
      "cell_type": "code",
      "source": [
        "clusters_5 = model_gmm_5.predict(X_pca_gmm)\n",
        "data_aleatorio6['clusters_5'] = clusters_5\n",
        "\n",
        "# Predicciones de los cluster\n",
        "data_aleatorio6['PCA_1'] = X_pca_gmm2[:, 0]\n",
        "data_aleatorio6['PCA_2'] = X_pca_gmm2[:, 1]\n",
        "data_aleatorio6['PCA_3'] = X_pca_gmm2[:, 2]\n",
        "\n",
        "# 3d scatterplot using plotly.express\n",
        "data_aleatorio6['clusters_5'] = data_aleatorio6['clusters_5'].astype('category')\n",
        "fig = px.scatter_3d(data_aleatorio6, x=\"PCA_1\", y=\"PCA_2\", z=\"PCA_3\", color=\"clusters_5\")\n",
        "fig.update_layout(width=1000, height=700)\n",
        "fig.show()"
      ],
      "metadata": {
        "id": "Gmi3yN9wJ6AC"
      },
      "execution_count": null,
      "outputs": []
    },
    {
      "cell_type": "markdown",
      "source": [
        "### Transformaciones para normalidad"
      ],
      "metadata": {
        "id": "QN6JHyslTZVo"
      }
    },
    {
      "cell_type": "code",
      "source": [
        "from scipy import stats\n",
        "data_transformed = data_aleatorio7.copy()\n",
        "\n",
        "# Función para aplicar transformación logarítmica (evitar log(0) con un pequeño offset)\n",
        "def log_transform(column):\n",
        "    return np.log1p(column)\n",
        "\n",
        "# Función para aplicar transformación de raíz cuadrada\n",
        "def sqrt_transform(column):\n",
        "    return np.sqrt(column)\n",
        "\n",
        "# Aplicar transformación de Box-Cox (solo para valores positivos)\n",
        "def boxcox_transform(column):\n",
        "    column_positive = column + 1e-6  # Evitar valores <= 0\n",
        "    transformed, _ = stats.boxcox(column_positive)\n",
        "    return transformed\n",
        "\n",
        "# Aplicar transformación de Yeo-Johnson (puede manejar negativos)\n",
        "def yeo_johnson_transform(column):\n",
        "    transformed, _ = stats.yeojohnson(column)\n",
        "    return transformed\n",
        "\n",
        "# Revisar las columnas numéricas del DataFrame\n",
        "numeric_cols = data_transformed.select_dtypes(include=['float64', 'int64']).columns\n",
        "\n",
        "# Aplicar transformaciones a las columnas numéricas\n",
        "for col in numeric_cols:\n",
        "    # Seleccionar transformación adecuada según la distribución\n",
        "    if (data_transformed[col] <= 0).any():\n",
        "        # Usar Yeo-Johnson para datos con valores negativos o ceros\n",
        "        data_transformed[col] = yeo_johnson_transform(data_transformed[col])\n",
        "    else:\n",
        "        # Usar Box-Cox para datos estrictamente positivos\n",
        "        data_transformed[col] = boxcox_transform(data_transformed[col])"
      ],
      "metadata": {
        "id": "BaF7GklmTHsh"
      },
      "execution_count": null,
      "outputs": []
    },
    {
      "cell_type": "code",
      "source": [
        "data_transformed2 = data_transformed.copy()"
      ],
      "metadata": {
        "id": "KDgMjXYSTpiH"
      },
      "execution_count": null,
      "outputs": []
    },
    {
      "cell_type": "markdown",
      "source": [
        "### Modelo con 4 clusters"
      ],
      "metadata": {
        "id": "Cx9rA7j7TmBD"
      }
    },
    {
      "cell_type": "code",
      "source": [
        "pca_gmm_tra = PCA(n_components=0.90).fit(data_transformed)\n",
        "pca_gmm_tra.n_components_"
      ],
      "metadata": {
        "id": "G4OAaVFJUH3v"
      },
      "execution_count": null,
      "outputs": []
    },
    {
      "cell_type": "code",
      "source": [
        "pca_gmm_tra.explained_variance_ratio_"
      ],
      "metadata": {
        "id": "Y1IrU2eXURCQ"
      },
      "execution_count": null,
      "outputs": []
    },
    {
      "cell_type": "code",
      "source": [
        "pca_gmm_tra = PCA(n_components=3).fit(data_transformed)\n",
        "X_pca_gmm_tra = pca_gmm.fit_transform(data_transformed)"
      ],
      "metadata": {
        "id": "vUeiVDSVVEfF"
      },
      "execution_count": null,
      "outputs": []
    },
    {
      "cell_type": "code",
      "source": [
        "X_pca_gmm_tra2 = X_pca_gmm_tra.copy()"
      ],
      "metadata": {
        "id": "rGtfdEnIVEfF"
      },
      "execution_count": null,
      "outputs": []
    },
    {
      "cell_type": "code",
      "source": [
        "# Modelo GMM- entrenamiento del modelo con 4 componentes con una covarianza tipo full\n",
        "model_gmm_tra_4 = GaussianMixture(n_components=4, random_state=123, covariance_type = 'full').fit(X_pca_gmm_tra)"
      ],
      "metadata": {
        "id": "sLYw4tRUTmBE"
      },
      "execution_count": null,
      "outputs": []
    },
    {
      "cell_type": "code",
      "source": [
        "# Predicciones y evaluación del modelo GMM con las metricas silhouette_score y calinski\n",
        "labels_ = model_gmm_tra_4.predict(X_pca_gmm_tra)\n",
        "\n",
        "print(\" ### GMMM ###\")\n",
        "print('Silhouette Score: ', silhouette_score(X_pca_gmm_tra, labels_))\n",
        "print('Calinski harabasz score: ', calinski_harabasz_score(X_pca_gmm_tra, labels_))"
      ],
      "metadata": {
        "id": "yLjroKWVTmBE"
      },
      "execution_count": null,
      "outputs": []
    },
    {
      "cell_type": "markdown",
      "source": [
        "# Selección del modelo"
      ],
      "metadata": {
        "id": "E9tu14r67eI1"
      }
    },
    {
      "cell_type": "code",
      "source": [
        "# import pandas as pd\n",
        "\n",
        "# # Inicializamos una lista vacía para almacenar los resultados\n",
        "# resultados = []\n",
        "\n",
        "# # --- Evaluación del modelo kmeans sin reduccion con 4 clusters---\n",
        "# resultados.append({\n",
        "#     'Modelo': 'KMeans (sin reducción)',\n",
        "#     'Clusters': 4,\n",
        "#     'Inertia': model_kmeans_4.inertia_,\n",
        "#     'Silhouette Score': silhouette_score(data_aleatorio1, model_kmeans_4.labels_),\n",
        "#     'Calinski-Harabasz Score': calinski_harabasz_score(data_aleatorio1, model_kmeans_4.labels_)\n",
        "# })\n",
        "\n",
        "# # --- Evaluación del modelo kmeans sin reduccion con 8 clusters---\n",
        "# resultados.append({\n",
        "#     'Modelo': 'KMeans (sin reducción)',\n",
        "#     'Clusters': 8,\n",
        "#     'Inertia': model_kmeans_8.inertia_,\n",
        "#     'Silhouette Score': silhouette_score(data_aleatorio2, model_kmeans_8.labels_),\n",
        "#     'Calinski-Harabasz Score': calinski_harabasz_score(data_aleatorio2, model_kmeans_8.labels_)\n",
        "# })\n",
        "\n",
        "# # --- Evaluación del modelo kmeans 4 clusters con dataset reducido---\n",
        "# resultados.append({\n",
        "#     'Modelo': 'KMeans (PCA)',\n",
        "#     'Clusters': 4,\n",
        "#     'Inertia': model_kmeans_pca_4.inertia_,\n",
        "#     'Silhouette Score': silhouette_score(X_pca, model_kmeans_pca_4.labels_),\n",
        "#     'Calinski-Harabasz Score': calinski_harabasz_score(X_pca, model_kmeans_pca_4.labels_)\n",
        "# })\n",
        "\n",
        "# # --- Evaluación del modelo kmeans 6 clusters con dataset reducido---\n",
        "# resultados.append({\n",
        "#     'Modelo': 'KMeans (PCA)',\n",
        "#     'Clusters': 6,\n",
        "#     'Inertia': model_kmeans_pca_6.inertia_,\n",
        "#     'Silhouette Score': silhouette_score(X_pca2, model_kmeans_pca_6.labels_),\n",
        "#     'Calinski-Harabasz Score': calinski_harabasz_score(X_pca2, model_kmeans_pca_6.labels_)\n",
        "# })\n",
        "\n",
        "# # --- Evaluación del modelo jerárquico ---\n",
        "# # Solo añadimos los coeficientes de Silhouette y Calinski-Harabasz para el modelo jerárquico con 3 clusters\n",
        "# for clusters, silhouette, calinski in zip(x_range, silhouette_scores_hc, calinski_scores_hc):\n",
        "#     if clusters == 3:  # Filtramos para el caso de 3 clusters\n",
        "#         resultados.append({\n",
        "#             'Modelo': 'Jerárquico',\n",
        "#             'Clusters': clusters,\n",
        "#             'Inertia': None,  # Jerárquico no tiene inertia\n",
        "#             'Silhouette Score': silhouette,\n",
        "#             'Calinski-Harabasz Score': calinski\n",
        "#         })\n",
        "\n",
        "\n",
        "# # --- Evaluación del modelo Gaussian Mixture Clustering ---\n",
        "# resultados.append({\n",
        "#     'Modelo': 'Gaussian Mixture',\n",
        "#     'Clusters': len(set(labels_)),  # Asumiendo que los labels_ ya están generados\n",
        "#     'Inertia': None,  # GMM no tiene inertia\n",
        "#     'Silhouette Score': silhouette_score(df_new_scaled, labels_),\n",
        "#     'Calinski-Harabasz Score': calinski_harabasz_score(df_new_scaled, labels_)\n",
        "# })\n",
        "\n",
        "# # Convertir la lista de resultados en un DataFrame\n",
        "# df_resultados = pd.DataFrame(resultados)\n",
        "\n",
        "# # Mostrar el DataFrame\n",
        "# df_resultados\n"
      ],
      "metadata": {
        "id": "vy4KwQuuKBR3"
      },
      "execution_count": null,
      "outputs": []
    },
    {
      "cell_type": "code",
      "source": [
        "import pandas as pd\n",
        "\n",
        "# Inicializamos una lista vacía para almacenar los resultados\n",
        "resultados = []\n",
        "\n",
        "# --- Evaluación del modelo kmeans sin reduccion con 4 clusters---\n",
        "resultados.append({\n",
        "    'Modelo': 'KMeans (sin reducción)',\n",
        "    'Clusters': 4,\n",
        "    'Inertia': model_kmeans_4.inertia_,\n",
        "    'Silhouette Score': silhouette_score(data_aleatorio1, model_kmeans_4.labels_),\n",
        "    'Calinski-Harabasz Score': calinski_harabasz_score(data_aleatorio1, model_kmeans_4.labels_)\n",
        "})\n",
        "\n",
        "# --- Evaluación del modelo kmeans sin reduccion con 8 clusters---\n",
        "resultados.append({\n",
        "    'Modelo': 'KMeans (sin reducción)',\n",
        "    'Clusters': 8,\n",
        "    'Inertia': model_kmeans_8.inertia_,\n",
        "    'Silhouette Score': silhouette_score(data_aleatorio2, model_kmeans_8.labels_),\n",
        "    'Calinski-Harabasz Score': calinski_harabasz_score(data_aleatorio2, model_kmeans_8.labels_)\n",
        "})\n",
        "\n",
        "# --- Evaluación del modelo kmeans 4 clusters con dataset reducido---\n",
        "resultados.append({\n",
        "    'Modelo': 'KMeans (PCA)',\n",
        "    'Clusters': 4,\n",
        "    'Inertia': model_kmeans_pca_4.inertia_,\n",
        "    'Silhouette Score': silhouette_score(X_pca, model_kmeans_pca_4.labels_),\n",
        "    'Calinski-Harabasz Score': calinski_harabasz_score(X_pca, model_kmeans_pca_4.labels_)\n",
        "})\n",
        "\n",
        "# --- Evaluación del modelo kmeans 6 clusters con dataset reducido---\n",
        "resultados.append({\n",
        "    'Modelo': 'KMeans (PCA)',\n",
        "    'Clusters': 6,\n",
        "    'Inertia': model_kmeans_pca_6.inertia_,\n",
        "    'Silhouette Score': silhouette_score(X_pca2, model_kmeans_pca_6.labels_),\n",
        "    'Calinski-Harabasz Score': calinski_harabasz_score(X_pca2, model_kmeans_pca_6.labels_)\n",
        "})\n",
        "\n",
        "# --- Evaluación del modelo jerárquico ---\n",
        "# Solo añadimos los coeficientes de Silhouette y Calinski-Harabasz para el modelo jerárquico con 3 clusters\n",
        "for clusters, silhouette, calinski in zip(x_range, silhouette_scores_hc, calinski_scores_hc):\n",
        "    if clusters == 3:  # Filtramos para el caso de 3 clusters\n",
        "        resultados.append({\n",
        "            'Modelo': 'Jerárquico',\n",
        "            'Clusters': clusters,\n",
        "            'Inertia': None,  # Jerárquico no tiene inertia\n",
        "            'Silhouette Score': silhouette,\n",
        "            'Calinski-Harabasz Score': calinski\n",
        "        })\n",
        "\n",
        "\n",
        "# --- Evaluación del modelo Gaussian Mixture Clustering 4 clusters ---\n",
        "resultados.append({\n",
        "    'Modelo': 'Gaussian Mixture (4 clusters)',\n",
        "    'Clusters': 4,\n",
        "    'Inertia': None,  # GMM no tiene inertia\n",
        "    'Silhouette Score': silhouette_score(X_pca_gmm, model_gmm_4.predict(X_pca_gmm)),\n",
        "    'Calinski-Harabasz Score': calinski_harabasz_score(X_pca_gmm, model_gmm_4.predict(X_pca_gmm))\n",
        "})\n",
        "\n",
        "# --- Evaluación del modelo Gaussian Mixture Clustering 5 clusters ---\n",
        "resultados.append({\n",
        "    'Modelo': 'Gaussian Mixture (5 clusters)',\n",
        "    'Clusters': 5,\n",
        "    'Inertia': None,  # GMM no tiene inertia\n",
        "    'Silhouette Score': silhouette_score(X_pca_gmm2, model_gmm_5.predict(X_pca_gmm2)),\n",
        "    'Calinski-Harabasz Score': calinski_harabasz_score(X_pca_gmm2, model_gmm_5.predict(X_pca_gmm2))\n",
        "})\n",
        "\n",
        "# --- Evaluación del modelo Gaussian Mixture Clustering 4 clusters con transformación ---\n",
        "resultados.append({\n",
        "    'Modelo': 'Gaussian Mixture (PCA)',\n",
        "    'Clusters': 4,\n",
        "    'Inertia': None,  # GMM no tiene inertia\n",
        "    'Silhouette Score': silhouette_score(X_pca_gmm_tra, model_gmm_tra_4.predict(X_pca_gmm_tra)),\n",
        "    'Calinski-Harabasz Score': calinski_harabasz_score(X_pca_gmm_tra, model_gmm_tra_4.predict(X_pca_gmm_tra))\n",
        "})\n",
        "\n",
        "\n",
        "# Convertir la lista de resultados en un DataFrame\n",
        "df_resultados = pd.DataFrame(resultados)\n",
        "\n",
        "# Mostrar el DataFrame\n",
        "df_resultados"
      ],
      "metadata": {
        "id": "CjqjfwLAg0sI"
      },
      "execution_count": null,
      "outputs": []
    },
    {
      "cell_type": "code",
      "source": [
        "# Encontrar el modelo con el mejor Silhouette Score\n",
        "mejor_modelo_silhouette = df_resultados.loc[df_resultados['Silhouette Score'].idxmax()]\n",
        "\n",
        "# Mostrar el mejor modelo con sus coeficientes\n",
        "print(\"\\nModelo con el mejor Silhouette Score y sus coeficientes:\")\n",
        "print(mejor_modelo_silhouette)"
      ],
      "metadata": {
        "id": "ePcQcYgxMrKP"
      },
      "execution_count": null,
      "outputs": []
    },
    {
      "cell_type": "code",
      "source": [
        "# Realizamos una copia aleatoria de 15000 datos en el Dataframe original para agregar los clusters\n",
        "\n",
        "df_shc2_ale = df_shc2.sample(n=15000, random_state=123)\n",
        "df_shc2_ale.head()"
      ],
      "metadata": {
        "id": "2EQFbdFjV5nq"
      },
      "execution_count": null,
      "outputs": []
    },
    {
      "cell_type": "code",
      "source": [
        "# Crear una nueva columna en el DataFrame original con las etiquetas de los clusters (4)\n",
        "\n",
        "labels_kmeans = model_kmeans_4.labels_\n",
        "\n",
        "df_shc2_ale['Cluster'] = labels_kmeans\n",
        "\n",
        "# Imprimir el DataFrame con las etiquetas de los clusters\n",
        "print(df_shc2_ale)"
      ],
      "metadata": {
        "id": "nrFtS9bbVJB7"
      },
      "execution_count": null,
      "outputs": []
    },
    {
      "cell_type": "code",
      "source": [
        "grupos = df_shc2_ale.groupby('Cluster')\n",
        "\n",
        "# Iterar sobre cada cluster y mostrar la descripción por separado\n",
        "for cluster, grupo in grupos:\n",
        "    print(f\"### Descripción para el Cluster {cluster} ###\")\n",
        "    print(grupo.describe())\n",
        "    print(\"\\n\")  # Línea vacía para mejor separación entre tablas"
      ],
      "metadata": {
        "id": "15r8KjIuZ-Dz"
      },
      "execution_count": null,
      "outputs": []
    },
    {
      "cell_type": "code",
      "source": [
        "# Conteo por tipo de cluster\n",
        "cluster_counts = df_shc2_ale['Cluster'].value_counts()\n",
        "\n",
        "print(cluster_counts)"
      ],
      "metadata": {
        "id": "h1elICd0uI0v"
      },
      "execution_count": null,
      "outputs": []
    },
    {
      "cell_type": "markdown",
      "source": [
        "## Descripción detallada de los Clusters"
      ],
      "metadata": {
        "id": "2m-GeWvqcCNR"
      }
    },
    {
      "cell_type": "markdown",
      "source": [
        "\n",
        "Cluster 0:\n",
        "Este grupo se caracteriza por vehículos con un tamaño de motor intermedio (promedio de 2.97L), un kilometraje moderado (90,957 km) y un precio intermedio (£14,564). Los autos en este cluster tienen una antigüedad relativamente baja (6.8 años), lo que los convierte en una opción atractiva para compradores que buscan un buen balance entre calidad y precio. Estos vehículos son ideales para aquellos que priorizan la relación costo-beneficio, ofreciendo autos en buen estado, a un precio accesible, sin ser de lujo.\n",
        "\n",
        "Cluster 1:\n",
        "Los vehículos de este cluster son los más premium, con menor kilometraje (45,465 km), mayor antigüedad (14.45 años) y precios elevados (£37,062). Estos autos parecen mantener su valor a lo largo del tiempo, lo que los hace atractivos para compradores que valoran la calidad y durabilidad, independientemente de la antigüedad del vehículo. Este grupo se compone principalmente de autos de alta gama, bien conservados, que ofrecen confianza y robustez, y son una opción ideal para compradores que buscan autos con una mayor vida útil y menor desgaste.\n",
        "\n",
        "Cluster 2:\n",
        "Este cluster agrupa vehículos con motores grandes (3.03L), alto kilometraje (154,833 km) y precios elevados (£37,161), a pesar de la considerable cantidad de kilómetros recorridos. Aun así, los autos de este grupo logran mantener un precio elevado debido a su robustez y tamaño de motor, lo que sugiere que son valorados por su rendimiento a largo plazo. Estos autos son ideales para compradores que buscan vehículos potentes, sin importar el kilometraje, y que valoran características como el tamaño del motor y la capacidad de mantener su valor a lo largo del tiempo.\n",
        "\n",
        "Cluster 3:\n",
        "Este grupo representa la opción más accesible en términos de precio, con un promedio de £13,582. Los vehículos en este cluster son más antiguos (19.3 años) y tienen un kilometraje elevado (110,215 km). Estos autos atraen a compradores con presupuestos ajustados que buscan vehículos funcionales a bajo costo, sin preocuparse tanto por el desgaste o la antigüedad. Es una opción perfecta para aquellos que priorizan el precio por encima de otras características y que buscan un vehículo que cumpla su propósito básico."
      ],
      "metadata": {
        "id": "5lc_w4UFcGdY"
      }
    },
    {
      "cell_type": "markdown",
      "source": [
        "## Conclusiones"
      ],
      "metadata": {
        "id": "4tknZFS_cT4X"
      }
    },
    {
      "cell_type": "markdown",
      "source": [
        "Los resultados muestran que el kilometraje y la antigüedad son factores determinantes en la valoración de los vehículos, pero también destacan otros aspectos como el tamaño del motor y la calidad percibida. Mientras que los vehículos premium logran mantener su valor con el paso del tiempo (Clusters 1 y 2), los autos más accesibles (Clusters 0 y 3) brindan opciones adecuadas para aquellos que buscan equilibrio entre costo y funcionalidad. Esta segmentación proporciona una herramienta útil para adaptar las estrategias de mercado y optimizar la oferta de vehículos según las distintas necesidades y prioridades de los compradores, permitiendo atender tanto a quienes buscan lujo y durabilidad como a aquellos que valoran la asequibilidad.\n",
        "\n",
        "En términos de ventas, los vehículos del Cluster 0, que suman 3,850 unidades, fueron los más vendidos, lo que indica una fuerte demanda por autos de menor costo que cumplen con las expectativas básicas de funcionalidad. Los Cluster 2 y Cluster 1, con 3,734 y 3,728 vehículos vendidos respectivamente, también muestran un buen desempeño, reflejando el interés de los compradores en vehículos que ofrecen una buena relación calidad-precio y calidad premium. Por último, los vehículos del Cluster 3, con 3,688 unidades vendidas, se posicionan como opciones intermedias, atrayendo a quienes buscan un balance entre precio y características deseables. Esta distribución de ventas resalta la diversidad en las preferencias de los consumidores y la importancia de ofrecer una gama de opciones que se ajusten a diferentes segmentos del mercado."
      ],
      "metadata": {
        "id": "oVQO6HoktjWO"
      }
    }
  ]
}